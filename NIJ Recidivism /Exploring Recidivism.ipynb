{
 "cells": [
  {
   "cell_type": "code",
   "execution_count": 2,
   "id": "07100201-f856-496f-b1e1-1627fd5bcacb",
   "metadata": {},
   "outputs": [],
   "source": [
    "import pandas as pd\n",
    "import numpy as np"
   ]
  },
  {
   "cell_type": "code",
   "execution_count": 3,
   "id": "7fc77a87-8ad5-4939-b2a6-c5281311def2",
   "metadata": {},
   "outputs": [],
   "source": [
    "df = pd.read_csv('NIJ_s_Recidivism_Chall.csv')"
   ]
  },
  {
   "cell_type": "code",
   "execution_count": 4,
   "id": "0bf72877-e190-41fa-bca3-d3f7ddfa77d3",
   "metadata": {},
   "outputs": [
    {
     "name": "stdout",
     "output_type": "stream",
     "text": [
      "          ID Gender   Race Age_at_Release  Residence_PUMA Gang_Affiliated  \\\n",
      "0          1      M  BLACK          43-47              16           False   \n",
      "1          2      M  BLACK          33-37              16           False   \n",
      "2          3      M  BLACK    48 or older              24           False   \n",
      "3          4      M  WHITE          38-42              16           False   \n",
      "4          5      M  WHITE          33-37              16           False   \n",
      "...      ...    ...    ...            ...             ...             ...   \n",
      "25830  26756      M  BLACK          23-27               9           False   \n",
      "25831  26758      M  WHITE          38-42              25           False   \n",
      "25832  26759      M  BLACK          33-37              15           False   \n",
      "25833  26760      F  WHITE          33-37              15             NaN   \n",
      "25834  26761      M  WHITE          28-32              12           False   \n",
      "\n",
      "       Supervision_Risk_Score_First Supervision_Level_First  \\\n",
      "0                               3.0                Standard   \n",
      "1                               6.0             Specialized   \n",
      "2                               7.0                    High   \n",
      "3                               7.0                    High   \n",
      "4                               4.0             Specialized   \n",
      "...                             ...                     ...   \n",
      "25830                           5.0                Standard   \n",
      "25831                           5.0                Standard   \n",
      "25832                           5.0                Standard   \n",
      "25833                           5.0                Standard   \n",
      "25834                           5.0                Standard   \n",
      "\n",
      "             Education_Level Dependents  ... DrugTests_Meth_Positive  \\\n",
      "0      At least some college  3 or more  ...                0.000000   \n",
      "1       Less than HS diploma          1  ...                0.000000   \n",
      "2      At least some college  3 or more  ...                0.166667   \n",
      "3       Less than HS diploma          1  ...                0.000000   \n",
      "4       Less than HS diploma  3 or more  ...                0.058824   \n",
      "...                      ...        ...  ...                     ...   \n",
      "25830  At least some college          1  ...                0.000000   \n",
      "25831  At least some college  3 or more  ...                0.000000   \n",
      "25832  At least some college  3 or more  ...                     NaN   \n",
      "25833  At least some college  3 or more  ...                0.000000   \n",
      "25834    High School Diploma  3 or more  ...                0.000000   \n",
      "\n",
      "      DrugTests_Other_Positive Percent_Days_Employed Jobs_Per_Year  \\\n",
      "0                          0.0              0.488562      0.447610   \n",
      "1                          0.0              0.425234      2.000000   \n",
      "2                          0.0              0.000000      0.000000   \n",
      "3                          0.0              1.000000      0.718996   \n",
      "4                          0.0              0.203562      0.929389   \n",
      "...                        ...                   ...           ...   \n",
      "25830                      0.0              0.189507      0.572044   \n",
      "25831                      0.0              0.757098      0.576104   \n",
      "25832                      NaN              0.711138      0.894125   \n",
      "25833                      0.0              0.000000      0.000000   \n",
      "25834                      0.0              0.124454      0.398745   \n",
      "\n",
      "      Employment_Exempt Recidivism_Within_3years Recidivism_Arrest_Year1  \\\n",
      "0                 False                    False                   False   \n",
      "1                 False                     True                   False   \n",
      "2                 False                     True                   False   \n",
      "3                 False                    False                   False   \n",
      "4                 False                     True                    True   \n",
      "...                 ...                      ...                     ...   \n",
      "25830             False                     True                    True   \n",
      "25831             False                     True                   False   \n",
      "25832             False                     True                   False   \n",
      "25833              True                    False                   False   \n",
      "25834             False                     True                    True   \n",
      "\n",
      "      Recidivism_Arrest_Year2  Recidivism_Arrest_Year3  Training_Sample  \n",
      "0                       False                    False                1  \n",
      "1                       False                     True                1  \n",
      "2                        True                    False                1  \n",
      "3                       False                    False                1  \n",
      "4                       False                    False                1  \n",
      "...                       ...                      ...              ...  \n",
      "25830                   False                    False                1  \n",
      "25831                    True                    False                1  \n",
      "25832                    True                    False                1  \n",
      "25833                   False                    False                1  \n",
      "25834                   False                    False                1  \n",
      "\n",
      "[25835 rows x 54 columns]\n"
     ]
    }
   ],
   "source": [
    "print(df)"
   ]
  },
  {
   "cell_type": "code",
   "execution_count": null,
   "id": "6fb4b9b3-9777-4bde-85c2-1be5560a11ef",
   "metadata": {},
   "outputs": [],
   "source": []
  }
 ],
 "metadata": {
  "kernelspec": {
   "display_name": "Python 3 (ipykernel)",
   "language": "python",
   "name": "python3"
  },
  "language_info": {
   "codemirror_mode": {
    "name": "ipython",
    "version": 3
   },
   "file_extension": ".py",
   "mimetype": "text/x-python",
   "name": "python",
   "nbconvert_exporter": "python",
   "pygments_lexer": "ipython3",
   "version": "3.13.7"
  }
 },
 "nbformat": 4,
 "nbformat_minor": 5
}
